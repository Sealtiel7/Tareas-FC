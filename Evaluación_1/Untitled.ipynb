{
 "cells": [
  {
   "cell_type": "code",
   "execution_count": 1,
   "metadata": {},
   "outputs": [],
   "source": [
    "import pandas as pd\n",
    "import matplotlib.pyplot as plt\n",
    "import numpy as np"
   ]
  },
  {
   "cell_type": "code",
   "execution_count": 16,
   "metadata": {},
   "outputs": [],
   "source": [
    "df = pd.read_csv(\"datos.dat\",sep = \",\")\n",
    "df[\"TIMESTAMP\"] = pd.to_datetime(df.TIMESTAMP)\n",
    "\n",
    "df = pd.DataFrame({\"FECHA\" : df[\"TIMESTAMP\"],\n",
    "                   \"TEMP\" : df[\"AirTC_Avg\"]})\n",
    "\n",
    "df[\"AÑO\"] = df[\"FECHA\"].dt.year\n",
    "df[\"MES\"] = df[\"FECHA\"].dt.month\n",
    "df[\"DIA\"] = df[\"FECHA\"].dt.day\n",
    "df[\"HORA\"] = df[\"FECHA\"].dt.hour\n",
    "\n",
    "\n"
   ]
  },
  {
   "cell_type": "code",
   "execution_count": 18,
   "metadata": {},
   "outputs": [
    {
     "data": {
      "text/html": [
       "<div>\n",
       "<style scoped>\n",
       "    .dataframe tbody tr th:only-of-type {\n",
       "        vertical-align: middle;\n",
       "    }\n",
       "\n",
       "    .dataframe tbody tr th {\n",
       "        vertical-align: top;\n",
       "    }\n",
       "\n",
       "    .dataframe thead th {\n",
       "        text-align: right;\n",
       "    }\n",
       "</style>\n",
       "<table border=\"1\" class=\"dataframe\">\n",
       "  <thead>\n",
       "    <tr style=\"text-align: right;\">\n",
       "      <th></th>\n",
       "      <th>FECHA</th>\n",
       "      <th>TEMP</th>\n",
       "      <th>AÑO</th>\n",
       "      <th>MES</th>\n",
       "      <th>DIA</th>\n",
       "    </tr>\n",
       "  </thead>\n",
       "  <tbody>\n",
       "    <tr>\n",
       "      <th>0</th>\n",
       "      <td>2018-05-11 21:00:00</td>\n",
       "      <td>22.810000</td>\n",
       "      <td>2018</td>\n",
       "      <td>5</td>\n",
       "      <td>11</td>\n",
       "    </tr>\n",
       "    <tr>\n",
       "      <th>1</th>\n",
       "      <td>2018-05-11 22:00:00</td>\n",
       "      <td>21.876667</td>\n",
       "      <td>2018</td>\n",
       "      <td>5</td>\n",
       "      <td>11</td>\n",
       "    </tr>\n",
       "    <tr>\n",
       "      <th>2</th>\n",
       "      <td>2018-05-11 23:00:00</td>\n",
       "      <td>18.386667</td>\n",
       "      <td>2018</td>\n",
       "      <td>5</td>\n",
       "      <td>11</td>\n",
       "    </tr>\n",
       "    <tr>\n",
       "      <th>3</th>\n",
       "      <td>2018-05-12 00:00:00</td>\n",
       "      <td>17.540000</td>\n",
       "      <td>2018</td>\n",
       "      <td>5</td>\n",
       "      <td>12</td>\n",
       "    </tr>\n",
       "    <tr>\n",
       "      <th>4</th>\n",
       "      <td>2018-05-12 01:00:00</td>\n",
       "      <td>16.561667</td>\n",
       "      <td>2018</td>\n",
       "      <td>5</td>\n",
       "      <td>12</td>\n",
       "    </tr>\n",
       "  </tbody>\n",
       "</table>\n",
       "</div>"
      ],
      "text/plain": [
       "                FECHA       TEMP   AÑO  MES  DIA\n",
       "0 2018-05-11 21:00:00  22.810000  2018    5   11\n",
       "1 2018-05-11 22:00:00  21.876667  2018    5   11\n",
       "2 2018-05-11 23:00:00  18.386667  2018    5   11\n",
       "3 2018-05-12 00:00:00  17.540000  2018    5   12\n",
       "4 2018-05-12 01:00:00  16.561667  2018    5   12"
      ]
     },
     "execution_count": 18,
     "metadata": {},
     "output_type": "execute_result"
    }
   ],
   "source": [
    "hr_ant = 20\n",
    "suma = 0\n",
    "c = 0\n",
    "temps = []\n",
    "fecha = []\n",
    "for i in range(0,len(df)):\n",
    "    if(df[\"HORA\"][i] == hr_ant):\n",
    "        suma = suma + df[\"TEMP\"][i]\n",
    "        hr_ant = df[\"HORA\"][i]\n",
    "        c = c+1\n",
    "    else:\n",
    "        temps.append(suma/c)\n",
    "        fecha.append(df[\"FECHA\"][i])\n",
    "        suma = df[\"TEMP\"][i]\n",
    "        hr_ant= df[\"HORA\"][i]\n",
    "        c = 1\n",
    "temps.append(suma/c)\n",
    "fecha.append(df[\"FECHA\"][i])\n",
    "\n",
    "###################\n",
    "df2 = pd.DataFrame({\"FECHA\" : fecha,\n",
    "                    \"TEMP\" : temps})\n",
    "df2[\"FECHA\"] = pd.to_datetime(df2.FECHA)\n",
    "df2[\"AÑO\"] = df2[\"FECHA\"].dt.year\n",
    "df2[\"MES\"] = df2[\"FECHA\"].dt.month\n",
    "df2[\"DIA\"] = df2[\"FECHA\"].dt.day\n",
    "df2.head()"
   ]
  },
  {
   "cell_type": "code",
   "execution_count": 24,
   "metadata": {},
   "outputs": [],
   "source": [
    "suma=0\n",
    "sumas = []\n",
    "fecha = []\n",
    "tmax = -1000\n",
    "tmin = 1000\n",
    "tmaxs = []\n",
    "tmins = []\n",
    "\n",
    "\n",
    "for i in range(df2[\"AÑO\"][0],df2[\"AÑO\"][len(df2)-1]+1):\n",
    "    dfaño = df2[df2[\"AÑO\"] == i]\n",
    "    for j in range(dfaño[\"MES\"][dfaño.index[0]],dfaño[\"MES\"][dfaño.index[len(dfaño)-1]]+1):\n",
    "        if(j < 11 and i == 2018):\n",
    "            continue\n",
    "        else:\n",
    "            dfmes = dfaño[dfaño[\"MES\"] == j]\n",
    "        for k in range(dfmes[\"DIA\"][dfmes.index[0]],dfmes[\"DIA\"][dfmes.index[len(dfmes)-1]]+1):\n",
    "            dfdia = dfmes[dfmes[\"DIA\"] == k]\n",
    "            for n in dfdia.index:\n",
    "                if(dfdia[\"TEMP\"][n] > tmax):\n",
    "                    tmax = dfdia[\"TEMP\"][n]\n",
    "                if(dfdia[\"TEMP\"][n] < tmin):\n",
    "                    tmin = dfdia[\"TEMP\"][n]\n",
    "                if(dfdia[\"TEMP\"][n] < 1.5):\n",
    "                    continue\n",
    "                elif(dfdia[\"TEMP\"][n] >= 1.5  and dfdia[\"TEMP\"][n] < 2.5):\n",
    "                    suma = suma + 0.5\n",
    "                elif(dfdia[\"TEMP\"][n] >= 2.5  and dfdia[\"TEMP\"][n] < 9.2):\n",
    "                    suma = suma + 1.0\n",
    "                elif(dfdia[\"TEMP\"][n] >= 9.2  and dfdia[\"TEMP\"][n] < 12.5):\n",
    "                    suma = suma + 0.5\n",
    "                elif(dfdia[\"TEMP\"][n] >= 12.5 and dfdia[\"TEMP\"][n] < 16):\n",
    "                    continue\n",
    "                elif(dfdia[\"TEMP\"][n] >= 16   and dfdia[\"TEMP\"][n] < 18):\n",
    "                    suma = suma - 0.5\n",
    "                else:\n",
    "                    suma = suma - 1.0\n",
    "            fecha.append(str(i) + \" \" + str(j) + \" \" + str(k))\n",
    "            sumas.append(suma)\n",
    "            suma = 0\n",
    "            \n",
    "            tmaxs.append(tmax)\n",
    "            tmins.append(tmin)\n",
    "            tmax = -1000\n",
    "            tmin =  1000\n",
    "            \n",
    "\n",
    "            \n",
    "            \n",
    "            "
   ]
  },
  {
   "cell_type": "code",
   "execution_count": 25,
   "metadata": {},
   "outputs": [],
   "source": [
    "UF24 = pd.DataFrame({\"FECHA\" : fecha,\n",
    "                     \"Unidad Frio\" : sumas,\n",
    "                     \"TMAX\" : tmaxs,\n",
    "                     \"TMIN\" : tmins})\n",
    "UF24[\"FECHA\"] = pd.to_datetime(UF24.FECHA)\n"
   ]
  },
  {
   "cell_type": "code",
   "execution_count": 26,
   "metadata": {},
   "outputs": [
    {
     "data": {
      "text/html": [
       "<div>\n",
       "<style scoped>\n",
       "    .dataframe tbody tr th:only-of-type {\n",
       "        vertical-align: middle;\n",
       "    }\n",
       "\n",
       "    .dataframe tbody tr th {\n",
       "        vertical-align: top;\n",
       "    }\n",
       "\n",
       "    .dataframe thead th {\n",
       "        text-align: right;\n",
       "    }\n",
       "</style>\n",
       "<table border=\"1\" class=\"dataframe\">\n",
       "  <thead>\n",
       "    <tr style=\"text-align: right;\">\n",
       "      <th></th>\n",
       "      <th>FECHA</th>\n",
       "      <th>Unidad Frio</th>\n",
       "      <th>TMAX</th>\n",
       "      <th>TMIN</th>\n",
       "    </tr>\n",
       "  </thead>\n",
       "  <tbody>\n",
       "    <tr>\n",
       "      <th>0</th>\n",
       "      <td>2018-11-01</td>\n",
       "      <td>-0.5</td>\n",
       "      <td>28.621667</td>\n",
       "      <td>6.806833</td>\n",
       "    </tr>\n",
       "    <tr>\n",
       "      <th>1</th>\n",
       "      <td>2018-11-02</td>\n",
       "      <td>-8.5</td>\n",
       "      <td>30.960000</td>\n",
       "      <td>10.248333</td>\n",
       "    </tr>\n",
       "    <tr>\n",
       "      <th>2</th>\n",
       "      <td>2018-11-03</td>\n",
       "      <td>-9.0</td>\n",
       "      <td>29.998333</td>\n",
       "      <td>10.473333</td>\n",
       "    </tr>\n",
       "    <tr>\n",
       "      <th>3</th>\n",
       "      <td>2018-11-04</td>\n",
       "      <td>-11.5</td>\n",
       "      <td>31.243333</td>\n",
       "      <td>11.670000</td>\n",
       "    </tr>\n",
       "    <tr>\n",
       "      <th>4</th>\n",
       "      <td>2018-11-05</td>\n",
       "      <td>-8.5</td>\n",
       "      <td>31.093333</td>\n",
       "      <td>11.435000</td>\n",
       "    </tr>\n",
       "  </tbody>\n",
       "</table>\n",
       "</div>"
      ],
      "text/plain": [
       "       FECHA  Unidad Frio       TMAX       TMIN\n",
       "0 2018-11-01         -0.5  28.621667   6.806833\n",
       "1 2018-11-02         -8.5  30.960000  10.248333\n",
       "2 2018-11-03         -9.0  29.998333  10.473333\n",
       "3 2018-11-04        -11.5  31.243333  11.670000\n",
       "4 2018-11-05         -8.5  31.093333  11.435000"
      ]
     },
     "execution_count": 26,
     "metadata": {},
     "output_type": "execute_result"
    }
   ],
   "source": [
    "UF24.head()"
   ]
  },
  {
   "cell_type": "code",
   "execution_count": 30,
   "metadata": {},
   "outputs": [
    {
     "data": {
      "image/png": "[encoded data removed]",
      "text/plain": [
       "<Figure size 432x288 with 1 Axes>"
      ]
     },
     "metadata": {
      "needs_background": "light"
     },
     "output_type": "display_data"
    }
   ],
   "source": [
    "\n",
    "plt.plot(UF24[\"FECHA\"],UF24[\"TMAX\"])\n",
    "plt.show()\n"
   ]
  },
  {
   "cell_type": "code",
   "execution_count": 29,
   "metadata": {},
   "outputs": [
    {
     "data": {
      "image/png": "[encoded data removed]",
      "text/plain": [
       "<Figure size 432x288 with 1 Axes>"
      ]
     },
     "metadata": {
      "needs_background": "light"
     },
     "output_type": "display_data"
    }
   ],
   "source": [
    "plt.plot(UF24[\"FECHA\"],UF24[\"TMIN\"])\n",
    "plt.show()"
   ]
  }
 ],
 "metadata": {
  "kernelspec": {
   "display_name": "Python 3",
   "language": "python",
   "name": "python3"
  },
  "language_info": {
   "codemirror_mode": {
    "name": "ipython",
    "version": 3
   },
   "file_extension": ".py",
   "mimetype": "text/x-python",
   "name": "python",
   "nbconvert_exporter": "python",
   "pygments_lexer": "ipython3",
   "version": "3.7.1"
  }
 },
 "nbformat": 4,
 "nbformat_minor": 2
}
