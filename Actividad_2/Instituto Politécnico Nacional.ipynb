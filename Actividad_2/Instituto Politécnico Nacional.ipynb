{
 "cells": [
  {
   "cell_type": "code",
   "execution_count": 1,
   "metadata": {},
   "outputs": [
    {
     "name": "stderr",
     "output_type": "stream",
     "text": [
      "C:\\ProgramData\\Anaconda3\\lib\\site-packages\\ipykernel_launcher.py:35: UserWarning: Boolean Series key will be reindexed to match DataFrame index.\n"
     ]
    },
    {
     "data": {
      "text/plain": [
       "<Figure size 640x480 with 1 Axes>"
      ]
     },
     "metadata": {},
     "output_type": "display_data"
    },
    {
     "data": {
      "text/plain": [
       "<Figure size 640x480 with 1 Axes>"
      ]
     },
     "metadata": {},
     "output_type": "display_data"
    },
    {
     "data": {
      "text/plain": [
       "<Figure size 640x480 with 1 Axes>"
      ]
     },
     "metadata": {},
     "output_type": "display_data"
    },
    {
     "data": {
      "text/plain": [
       "<Figure size 640x480 with 1 Axes>"
      ]
     },
     "metadata": {},
     "output_type": "display_data"
    },
    {
     "data": {
      "text/plain": [
       "<Figure size 640x480 with 1 Axes>"
      ]
     },
     "metadata": {},
     "output_type": "display_data"
    },
    {
     "data": {
      "text/plain": [
       "<Figure size 640x480 with 1 Axes>"
      ]
     },
     "metadata": {},
     "output_type": "display_data"
    },
    {
     "data": {
      "text/plain": [
       "<Figure size 640x480 with 1 Axes>"
      ]
     },
     "metadata": {},
     "output_type": "display_data"
    },
    {
     "data": {
      "text/plain": [
       "<Figure size 640x480 with 1 Axes>"
      ]
     },
     "metadata": {},
     "output_type": "display_data"
    },
    {
     "data": {
      "text/plain": [
       "<Figure size 640x480 with 1 Axes>"
      ]
     },
     "metadata": {},
     "output_type": "display_data"
    },
    {
     "data": {
      "text/plain": [
       "<Figure size 640x480 with 0 Axes>"
      ]
     },
     "metadata": {},
     "output_type": "display_data"
    },
    {
     "data": {
      "text/plain": [
       "<Figure size 640x480 with 1 Axes>"
      ]
     },
     "metadata": {},
     "output_type": "display_data"
    },
    {
     "data": {
      "text/plain": [
       "<Figure size 640x480 with 0 Axes>"
      ]
     },
     "metadata": {},
     "output_type": "display_data"
    },
    {
     "data": {
      "text/plain": [
       "<Figure size 640x480 with 1 Axes>"
      ]
     },
     "metadata": {},
     "output_type": "display_data"
    }
   ],
   "source": [
    "import pandas as pd\n",
    "import numpy as np\n",
    "import matplotlib.pyplot as plt\n",
    "import os\n",
    "\n",
    "#Ahora, leeeremos los datos descargados de la página de Conagua acerca\n",
    "#diferentes parámetros metereológicos del centro de Biología de el \n",
    "#Instituto Politécnico Nacional\n",
    "os.chdir('/Users/Usuario/Desktop/Fc')\n",
    "df0=pd.read_csv('datos.txt', skiprows=4, sep='\\s+')\n",
    "\n",
    "#Leeremos los primeros cinco valoes de la tabla\n",
    "df0.head()\n",
    "\n",
    "#Ahora, a estos datos le aplicamos la siguiente estructura.\n",
    "df = pd.DataFrame(df0)\n",
    "\n",
    "#Ver que tipo de datos son\n",
    "df.dtypes\n",
    "\n",
    "#Combinaremos los formatos del día y la hora para convertirla en una\n",
    "#variable que sea el tiempo.\n",
    "df['FECHA'] = pd.to_datetime(df.apply(lambda x: x['DD/MM/AAAA'] + ' ' + x['HH:MM'], 1), dayfirst=True, utc=True)\n",
    "df = df.drop(['DD/MM/AAAA', 'HH:MM'], 1)\n",
    "\n",
    "#Las mostraremos df.\n",
    "df.head()\n",
    "\n",
    "#Analizaremos los datos explorando cada uno de ellos.\n",
    "df.describe()\n",
    "\n",
    "#En la siguiente linea de comnado seleccionaremos el intervalo de temperatura\n",
    "#que estéen el intervalo 15<x<20\n",
    "df_tmp=df[df.TEMP>15]\n",
    "df_select = df_tmp[df.TEMP<20]\n",
    "df_select\n",
    "\n",
    "#Calcularemos el promedio de las columnas (solo mostrará los datos que sean float64)\n",
    "df.mean()\n",
    "\n",
    "#Si queremos calcular el promedio de algún conjunto de datos en espécifico\n",
    "#podemos seleccionarlo de la siguiente manera.\n",
    "#df.TEMP.mean()\n",
    "#DIRS       133.672000\n",
    "#DIRR       198.880000\n",
    "#VELS         3.588320\n",
    "#VELR        11.671200\n",
    "#TEMP        16.433600\n",
    "#HR          46.248000\n",
    "#PB         779.120000\n",
    "#PREC         5.022400\n",
    "#RAD-SOL    235.876613\n",
    "#dtype: float64\n",
    "\n",
    "df.VELS.mean()\n",
    "\n",
    "#Procederemos a Graficar \n",
    "#Primera Gráfica - Velocidad de los Vientos\n",
    "plt.figure(); df.VELS.plot(); plt.legend(loc='best')\n",
    "plt.title(\"Variación de la Velocidad de los Vientos\")\n",
    "plt.ylabel(\"Rapidez (m/s)\")\n",
    "plt.xlabel(\"Tiempo (hrs)\")\n",
    "plt.grid(True)\n",
    "plt.savefig('vels', dpi=2000)\n",
    "plt.show()\n",
    " \n",
    "#Segunda Gráfica - Dirección de los Vientos\n",
    "plt.figure(); df.DIRS.plot(); plt.legend(loc='best')\n",
    "plt.title(\"Dirección de los Vientos\")\n",
    "plt.ylabel(\"Dirección en Grados\")\n",
    "plt.xlabel(\"Tiempo (hrs)\")\n",
    "plt.grid(True)\n",
    "plt.savefig('dirs', dpi=2000)\n",
    "plt.show()\n",
    "\n",
    "#Tercera Gráfica - Dirección de la Ráfaga\n",
    "plt.figure(); df.DIRR.plot(); plt.legend(loc='best')\n",
    "plt.title(\"Dirección de la Ráfaga\")\n",
    "plt.ylabel(\"Dirección en Grados\")\n",
    "plt.xlabel(\"Tiempo (hrs)\")\n",
    "plt.savefig('dirr', dpi=2000)\n",
    "plt.grid(True)\n",
    "plt.show()\n",
    "\n",
    "#Cuarta Gráfica - Velocidad de la Ráfaga\n",
    "plt.figure(); df.DIRR.plot(); plt.legend(loc='best')\n",
    "plt.title(\"Velocidad de la Ráfaga\")\n",
    "plt.ylabel(\"Velocidad (m/s)\")\n",
    "plt.xlabel(\"Tiempo (hrs)\")\n",
    "\n",
    "plt.grid(True)\n",
    "plt.show()\n",
    "\n",
    "#Quinta Gráfica - Temperaturas\n",
    "plt.figure(); df.TEMP.plot(); plt.legend(loc='best')\n",
    "plt.title(\"Variación de la Temperatura en la Región\")\n",
    "plt.ylabel(\"Temperatura en °C\")\n",
    "plt.xlabel(\"Tiempo (hrs)\")\n",
    "plt.savefig('temp', dpi=2000)\n",
    "plt.grid(True)\n",
    "plt.show()\n",
    "\n",
    "#Sexta Gráfica - Humedad Relativa\n",
    "plt.figure(); df.HR.plot(); plt.legend(loc='best')\n",
    "plt.title(\"Humedad Relativa en la Región\")\n",
    "plt.ylabel(\"Humedad Reltaiva (%)\")\n",
    "plt.xlabel(\"Tiempo (hrs)\")\n",
    "plt.grid(True)\n",
    "plt.savefig('hr', dpi=2000)\n",
    "plt.show()\n",
    "\n",
    "#Séptima Gráfica - Presión Atmosférica\n",
    "plt.figure(); df.PB.plot(); plt.legend(loc='best')\n",
    "plt.title(\"Variación de la Magnitud en la Presión Atmosférica\")\n",
    "plt.ylabel(\"Presión (bar)\")\n",
    "plt.xlabel(\"Tiempo (hrs)\")\n",
    "plt.savefig('pb', dpi=2000)\n",
    "plt.grid(True)\n",
    "plt.show()\n",
    "\n",
    "#Octava Gráfica - Precipitación\n",
    "plt.figure(); df.PREC.plot(); plt.legend(loc='best')\n",
    "plt.title(\"Precipitación Pluvial\")\n",
    "plt.ylabel(\"Precipitacipon Anual (mm)\")\n",
    "plt.xlabel(\"Tiempo (hrs)\")\n",
    "plt.grid(True)\n",
    "plt.savefig('prec', dpi=2000)\n",
    "plt.show()\n",
    "\n",
    "#Novena Gráfica - Radiación Solar\n",
    "plt.figure(); df.RADSOL.plot(); plt.legend(loc='best')\n",
    "plt.title(\"Índice de Radiación Solar\")\n",
    "plt.ylabel(\"Radiación Solar(W/m^2)\")\n",
    "plt.xlabel(\"Tiempo (hrs)\")\n",
    "plt.grid(True)\n",
    "plt.savefig('radsol', dpi=2000)\n",
    "plt.show()\n",
    "\n",
    "#Ahora juntaremos mas tipo de datos en una misma gráfica para comprarar los resultados.\n",
    "#Comparación de temperatura y humedad.\n",
    "df1 = df[['TEMP','HR']]\n",
    "plt.figure(); df1.plot(); plt.legend(loc='best')\n",
    "plt.title(\"Variación de la Temperatura y la Humedad Relativa\")\n",
    "plt.ylabel(\"Temp ºC /(%) HR\")\n",
    "plt.grid(True)\n",
    "plt.savefig('temphr', dpi=2000)\n",
    "plt.show()\n",
    "\n",
    "#Comparación de velocidad de los vientos y temperatura.\n",
    "df1 = df[['TEMP','VELS']]\n",
    "plt.figure(); df1.plot(); plt.legend(loc='best')\n",
    "plt.title(\"Relación entre velocidad de los vientos y la temperatura\")\n",
    "plt.ylabel(\"Temp ºC /(m/s)\")\n",
    "plt.grid(True)\n",
    "plt.savefig('tempvels', dpi=2000)\n",
    "plt.show()\n"
   ]
  },
  {
   "cell_type": "code",
   "execution_count": null,
   "metadata": {},
   "outputs": [],
   "source": []
  }
 ],
 "metadata": {
  "kernelspec": {
   "display_name": "Python 3",
   "language": "python",
   "name": "python3"
  },
  "language_info": {
   "codemirror_mode": {
    "name": "ipython",
    "version": 3
   },
   "file_extension": ".py",
   "mimetype": "text/x-python",
   "name": "python",
   "nbconvert_exporter": "python",
   "pygments_lexer": "ipython3",
   "version": "3.7.1"
  }
 },
 "nbformat": 4,
 "nbformat_minor": 2
}
